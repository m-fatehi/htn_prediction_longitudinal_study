{
  "cells": [
    {
      "cell_type": "markdown",
      "metadata": {
        "id": "iHJLWWKKNN05"
      },
      "source": [
        "## Environment Setup"
      ]
    },
    {
      "cell_type": "code",
      "execution_count": null,
      "metadata": {
        "id": "DVG1HQDFXbME"
      },
      "outputs": [],
      "source": [
        "%pip install -q pyreadstat gdown xgboost shap"
      ]
    },
    {
      "cell_type": "code",
      "execution_count": null,
      "metadata": {
        "id": "NF-rd3a2r3vw"
      },
      "outputs": [],
      "source": [
        "%pip install scikit-learn==1.4.2 tensorflow==2.15\n",
        "# Restart the session after running this cell"
      ]
    },
    {
      "cell_type": "code",
      "execution_count": null,
      "metadata": {
        "colab": {
          "base_uri": "https://localhost:8080/"
        },
        "id": "lR5u5lzb7QC4",
        "outputId": "4a45b8ac-9977-4a36-97fd-5c9181d182f8"
      },
      "outputs": [],
      "source": [
        "%pip install -U gdown"
      ]
    },
    {
      "cell_type": "code",
      "execution_count": null,
      "metadata": {
        "id": "vd4UKv6tbCpw"
      },
      "outputs": [],
      "source": [
        "%pip install -q ydata_profiling"
      ]
    },
    {
      "cell_type": "code",
      "execution_count": null,
      "metadata": {
        "id": "bsipmvUOTaKQ"
      },
      "outputs": [],
      "source": [
        "import numpy as np\n",
        "import pandas as pd\n",
        "from sklearn.impute import KNNImputer\n",
        "from sklearn.linear_model import LogisticRegressionCV\n",
        "from sklearn.metrics import classification_report, roc_auc_score, roc_curve, RocCurveDisplay, confusion_matrix, ConfusionMatrixDisplay\n",
        "from sklearn.ensemble import RandomForestClassifier\n",
        "from sklearn.model_selection import GridSearchCV\n",
        "from sklearn.preprocessing import StandardScaler\n",
        "from sklearn.model_selection import train_test_split\n",
        "from sklearn.neighbors import KNeighborsClassifier\n",
        "from sklearn.linear_model import BayesianRidge\n",
        "from sklearn.cluster import KMeans\n",
        "from sklearn.preprocessing import OneHotEncoder\n",
        "import xgboost as xgb\n",
        "import os\n",
        "import pickle\n",
        "import matplotlib.pyplot as plt\n",
        "import seaborn as sns\n",
        "import shap"
      ]
    },
    {
      "cell_type": "markdown",
      "metadata": {
        "id": "Q3X0sFcIa2Pl"
      },
      "source": [
        "## Data Downloading"
      ]
    },
    {
      "cell_type": "code",
      "execution_count": null,
      "metadata": {
        "colab": {
          "base_uri": "https://localhost:8080/"
        },
        "id": "Gu5Id9BRTaKP",
        "outputId": "c8efcf07-758c-40b7-edad-74b7bb20e6e8"
      },
      "outputs": [],
      "source": [
        "import gdown\n",
        "# All\n",
        "gdown.download(id=\"1S8agHpzNckOElaGqRU7byP40tPIznxXW\")\n",
        "# Zinc, Copper\n",
        "gdown.download(id=\"1ausKJoiSEUVg1hxTumwQAeAMfgAZrRou\")"
      ]
    },
    {
      "cell_type": "code",
      "execution_count": null,
      "metadata": {
        "colab": {
          "base_uri": "https://localhost:8080/"
        },
        "id": "IzoOFgqaWQxI",
        "outputId": "0a85796b-cc20-41c7-db5b-84860a70a9fc"
      },
      "outputs": [],
      "source": [
        "df_raw = pd.read_spss(\"./HTN_NEW.sav\").drop([\"HTN_2_1\"], axis=1)\n",
        "df_raw.head()"
      ]
    },
    {
      "cell_type": "code",
      "execution_count": null,
      "metadata": {
        "colab": {
          "base_uri": "https://localhost:8080/"
        },
        "id": "_ICwIBLx7fF8",
        "outputId": "7c339dde-b00f-4217-b555-2af247113ba7"
      },
      "outputs": [],
      "source": [
        "df_zink = pd.read_spss(\"./HTN_zink.sav\")\n",
        "df_zink.head()"
      ]
    },
    {
      "cell_type": "code",
      "execution_count": null,
      "metadata": {
        "colab": {
          "base_uri": "https://localhost:8080/"
        },
        "id": "Csz1ebP21plt",
        "outputId": "e6e3e54f-7692-47d0-cddc-ffde4ada1aee"
      },
      "outputs": [],
      "source": [
        "df_raw.dtypes, df_zink.dtypes"
      ]
    },
    {
      "cell_type": "code",
      "execution_count": null,
      "metadata": {
        "id": "yT97wHly-UKn"
      },
      "outputs": [],
      "source": [
        "df_zink = df_zink.set_index('FileNo')"
      ]
    },
    {
      "cell_type": "code",
      "execution_count": null,
      "metadata": {
        "colab": {
          "base_uri": "https://localhost:8080/"
        },
        "id": "XCHRygq17eYH",
        "outputId": "fa129148-ab59-441f-cc61-d531d1656f89"
      },
      "outputs": [],
      "source": [
        "df = df_raw.join(df_zink, on=\"File.No\", how=\"left\")\n",
        "df"
      ]
    },
    {
      "cell_type": "code",
      "execution_count": null,
      "metadata": {
        "colab": {
          "base_uri": "https://localhost:8080/"
        },
        "id": "F9ulSEZf_S9x",
        "outputId": "edb4dcd9-7e0b-4219-860e-213ef0c9cd5c"
      },
      "outputs": [],
      "source": [
        "df['File.No'].value_counts()"
      ]
    },
    {
      "cell_type": "code",
      "execution_count": null,
      "metadata": {
        "id": "kVU2JYJv-vio"
      },
      "outputs": [],
      "source": [
        "# Remove duplicated indecies\n",
        "df = df.drop(index=df.index[df['File.No'] == 2586])\n",
        "df = df.drop(index=df.index[df['File.No'] == 2012])"
      ]
    },
    {
      "cell_type": "markdown",
      "metadata": {
        "id": "lgN7UpBia40k"
      },
      "source": [
        "## Profiling"
      ]
    },
    {
      "cell_type": "code",
      "execution_count": null,
      "metadata": {
        "id": "VxgS1sodhrUP"
      },
      "outputs": [],
      "source": [
        "from ydata_profiling import ProfileReport\n",
        "profile = ProfileReport(df, title=\"HTN Profiling Report\")\n",
        "# profile.to_file(\"your_report.html\")"
      ]
    },
    {
      "cell_type": "markdown",
      "metadata": {
        "id": "SRJY8zVqNTvL"
      },
      "source": [
        "## Preprocessing"
      ]
    },
    {
      "cell_type": "code",
      "execution_count": null,
      "metadata": {
        "colab": {
          "base_uri": "https://localhost:8080/"
        },
        "id": "W7UivbR83Yup",
        "outputId": "018f5dfb-50d1-433b-f9bd-ea154b96c17f"
      },
      "outputs": [],
      "source": [
        "df.shape"
      ]
    },
    {
      "cell_type": "code",
      "execution_count": null,
      "metadata": {
        "id": "OuvKZdMJjRoP"
      },
      "outputs": [],
      "source": [
        "renaming_mapper = {\n",
        "    'HTN_phase1': 'HTN_2_1',\n",
        "}\n",
        "df = df.rename(columns=renaming_mapper)"
      ]
    },
    {
      "cell_type": "code",
      "execution_count": null,
      "metadata": {
        "colab": {
          "base_uri": "https://localhost:8080/"
        },
        "id": "AomaSEAETaKR",
        "outputId": "3ddd9f3a-b163-4b1d-cdbb-6c213591ce14"
      },
      "outputs": [],
      "source": [
        "df.HTN_2_1.value_counts()"
      ]
    },
    {
      "cell_type": "code",
      "execution_count": null,
      "metadata": {
        "colab": {
          "base_uri": "https://localhost:8080/"
        },
        "id": "o2IKhQUr4CE3",
        "outputId": "f5801023-b77e-4d73-b86e-ca3581135449"
      },
      "outputs": [],
      "source": [
        "df.smokingstutus.value_counts()"
      ]
    },
    {
      "cell_type": "code",
      "execution_count": null,
      "metadata": {
        "colab": {
          "base_uri": "https://localhost:8080/"
        },
        "id": "kKGt5Oic3FKB",
        "outputId": "8f3c466d-499f-44e0-dd71-e104a97a64b7"
      },
      "outputs": [],
      "source": [
        "df.Diabete.value_counts()"
      ]
    },
    {
      "cell_type": "code",
      "execution_count": null,
      "metadata": {
        "id": "X3cbQ2BjbgwI"
      },
      "outputs": [],
      "source": [
        "def show(df_):\n",
        "    print(f\"ratio: {round(df_.shape[0] / df.shape[0] * 100,1)}%\")\n",
        "    return df_.head(3)"
      ]
    },
    {
      "cell_type": "code",
      "execution_count": null,
      "metadata": {
        "id": "7HU3v0BbTaKT"
      },
      "outputs": [],
      "source": [
        "def map_diabete(x):\n",
        "    match x:\n",
        "        case \"<126\":\n",
        "            return 0.0\n",
        "        case \">=126\":\n",
        "            return 1.0\n",
        "        case _:\n",
        "            return x;\n",
        "\n",
        "def map_sex(x):\n",
        "    match x:\n",
        "        case \"male\":\n",
        "            return 0.0\n",
        "        case \"female\":\n",
        "            return 1.0\n",
        "        case _:\n",
        "            # print(f\"some thing wrong {x=}\") ???????? only 2\n",
        "            return x\n",
        "\n",
        "\n",
        "target_names = [\"HTN-\", \"HTN+\"]\n",
        "\n",
        "\n",
        "def map_htn(x):\n",
        "    if x == target_names[0]:\n",
        "        return 0.0\n",
        "    if x == target_names[1]:\n",
        "        return 1.0\n",
        "    return x\n",
        "\n",
        "\n",
        "df.Diabete = df.Diabete.apply(map_diabete)\n",
        "df.Sex = df.Sex.apply(map_sex)\n",
        "df.HTN_2_1 = df.HTN_2_1.apply(map_htn)"
      ]
    },
    {
      "cell_type": "code",
      "execution_count": null,
      "metadata": {
        "id": "uDJypnqCTaKT"
      },
      "outputs": [],
      "source": [
        "df = df.drop([\"HTN_phase2\", \"File.No\", 'phase1'], axis=1)"
      ]
    },
    {
      "cell_type": "code",
      "execution_count": null,
      "metadata": {
        "id": "1eqiMpljhQ3y"
      },
      "outputs": [],
      "source": [
        "# Encode Categorical\n",
        "oneHotEncoder = OneHotEncoder(handle_unknown='ignore', sparse_output=False)\n",
        "encodedSmokingStatus = oneHotEncoder.fit_transform(df[['smokingstutus']])\n",
        "encodedSmokingStatusDF = pd.DataFrame(encodedSmokingStatus, columns=oneHotEncoder.get_feature_names_out())\n",
        "\n",
        "df = pd.concat([df, encodedSmokingStatusDF], axis=1)"
      ]
    },
    {
      "cell_type": "code",
      "execution_count": null,
      "metadata": {
        "id": "ZjQMwlYSheL0"
      },
      "outputs": [],
      "source": [
        "df = df.drop(['smokingstutus'], axis=1)"
      ]
    },
    {
      "cell_type": "code",
      "execution_count": null,
      "metadata": {
        "colab": {
          "base_uri": "https://localhost:8080/"
        },
        "id": "mNhWTQ0GTaKT",
        "outputId": "7107ed50-0457-4146-b5c5-be5d0c50023c"
      },
      "outputs": [],
      "source": [
        "n_na = df.apply(\n",
        "    lambda x: np.where(x[1:].isna())[0].shape[0], axis=1\n",
        ")\n",
        "n_na.describe(percentiles=[0.75, 0.9, 0.93, 0.95])"
      ]
    },
    {
      "cell_type": "code",
      "execution_count": null,
      "metadata": {
        "colab": {
          "base_uri": "https://localhost:8080/"
        },
        "id": "VwRHmugPm_hG",
        "outputId": "9a0ad364-f65d-4a06-b3c5-c3dce86ac006"
      },
      "outputs": [],
      "source": [
        "df"
      ]
    },
    {
      "cell_type": "code",
      "execution_count": null,
      "metadata": {
        "id": "L_T7rzuT0KrP"
      },
      "outputs": [],
      "source": [
        "renaming_mapper = {\n",
        "    'MLP': 'MLR',\n",
        "    'MPP': 'MPR',\n",
        "    'LYM_Sh': 'LYM',\n",
        "    'NEUT_Sh': 'NEUT',\n",
        "    'hs_CRP': 'hsCRP',\n",
        "    'age_1': 'age'\n",
        "}\n",
        "df = df.rename(columns=renaming_mapper)"
      ]
    },
    {
      "cell_type": "code",
      "execution_count": null,
      "metadata": {
        "colab": {
          "base_uri": "https://localhost:8080/"
        },
        "id": "G5JrcQjpTaKU",
        "outputId": "d186f5d9-6bb1-46c6-f7bf-46dd9181377a"
      },
      "outputs": [],
      "source": [
        "df_pure = df[n_na <= 3]\n",
        "df_pure[~df_pure.HTN_2_1.isna()].shape[0], df[~df.HTN_2_1.isna()].shape[0]"
      ]
    },
    {
      "cell_type": "code",
      "execution_count": null,
      "metadata": {
        "id": "_8kjasNuTaKU"
      },
      "outputs": [],
      "source": [
        "y_ = df_pure.HTN_2_1\n",
        "X_ = df_pure.drop([\"HTN_2_1\"], axis=1)"
      ]
    },
    {
      "cell_type": "code",
      "execution_count": null,
      "metadata": {
        "id": "7QgzzIuINwhX"
      },
      "outputs": [],
      "source": [
        "columns = X_.columns\n",
        "without_sex_columns = columns.drop(['Sex'])"
      ]
    },
    {
      "cell_type": "code",
      "execution_count": null,
      "metadata": {
        "colab": {
          "base_uri": "https://localhost:8080/"
        },
        "id": "Dp4tfMiv9W8Q",
        "outputId": "0b621eb4-ddf0-4384-8011-de5d4e0b3c19"
      },
      "outputs": [],
      "source": [
        "percentile_df = X_.describe(percentiles=[.01,.99]).transpose()\n",
        "percentile_df"
      ]
    },
    {
      "cell_type": "code",
      "execution_count": null,
      "metadata": {
        "colab": {
          "base_uri": "https://localhost:8080/"
        },
        "id": "rW_XbHd6yhLJ",
        "outputId": "10abf79b-8b4b-41db-e3ed-9f512788127c"
      },
      "outputs": [],
      "source": [
        "X_.shape, y_.shape"
      ]
    },
    {
      "cell_type": "code",
      "execution_count": null,
      "metadata": {
        "id": "m-lMVJY5x44U"
      },
      "outputs": [],
      "source": [
        "# Remove records that have `hsCRP` above 10\n",
        "hsCRP_filter = X_[X_['hsCRP'] > 10].index\n",
        "X_ = X_.drop(hsCRP_filter, axis=0)\n",
        "y_ = y_.drop(hsCRP_filter, axis=0)\n",
        "df_pure = df_pure.drop(hsCRP_filter, axis=0)"
      ]
    },
    {
      "cell_type": "code",
      "execution_count": null,
      "metadata": {
        "id": "omYxMBV39cYh"
      },
      "outputs": [],
      "source": [
        "for c in percentile_df.index:\n",
        "  one_pecent = percentile_df.loc[c]['1%']\n",
        "  ninty_precent = percentile_df.loc[c]['99%']\n",
        "\n",
        "  if (c == 'hsCRP'):\n",
        "    # Ignore the upper ninty percent part of the hsCRP since we removed them already\n",
        "    filter = (X_[c] < one_pecent)\n",
        "  else:\n",
        "    filter = (X_[c] < one_pecent) | (X_[c] > ninty_precent)\n",
        "\n",
        "  X_.loc[filter, c] = np.nan"
      ]
    },
    {
      "cell_type": "code",
      "execution_count": null,
      "metadata": {
        "colab": {
          "base_uri": "https://localhost:8080/"
        },
        "id": "TnJBou2kBcKO",
        "outputId": "92d008e1-89da-4f9d-80bd-9d5da799b335"
      },
      "outputs": [],
      "source": [
        "cat_columns_names = ['Diabete', 'Sex', 'smokingstutus_Ex-smoker', 'smokingstutus_current smoker', 'smokingstutus_non smoker']\n",
        "cat_columns_count = len(cat_columns_names)\n",
        "cat_columns_indices = [X_.columns.get_loc(c) for c in cat_columns_names]\n",
        "cat_columns_indices"
      ]
    },
    {
      "cell_type": "code",
      "execution_count": null,
      "metadata": {
        "colab": {
          "base_uri": "https://localhost:8080/"
        },
        "id": "hPExpHs2A10W",
        "outputId": "0ba22269-10e4-4385-f4e5-1f798dac31a4"
      },
      "outputs": [],
      "source": [
        "non_cat_columns_indices = [i for i in range(0, len(X_.columns)) if i not in cat_columns_indices]\n",
        "\n",
        "# Change the order of columns\n",
        "cat_columns = X_.columns[cat_columns_indices]\n",
        "non_cat_columns = X_.columns[non_cat_columns_indices]\n",
        "\n",
        "columns = [*non_cat_columns.tolist(), *cat_columns.tolist()]\n",
        "\n",
        "X_ = X_[columns]\n",
        "X_"
      ]
    },
    {
      "cell_type": "code",
      "execution_count": null,
      "metadata": {
        "id": "nBlWjloG9JSL"
      },
      "outputs": [],
      "source": [
        "# Train Test Split\n",
        "X_train, X_test, y_train, y_test = train_test_split(\n",
        "    X_, y_, test_size=0.1, random_state=42\n",
        ")"
      ]
    },
    {
      "cell_type": "code",
      "execution_count": null,
      "metadata": {
        "id": "Xy-QkSLKTaKU"
      },
      "outputs": [],
      "source": [
        "# KNN Imputer\n",
        "imputer = KNNImputer(n_neighbors=5, weights=\"distance\")\n",
        "X_train = imputer.fit_transform(X_train)\n",
        "X_test = imputer.transform(X_test)\n",
        "\n",
        "# Round values since they're categorical\n",
        "X_train[:, -5:] = np.round(X_train[:,  -5:])\n",
        "X_test[:, -5:] = np.round(X_test[:, -5:])"
      ]
    },
    {
      "cell_type": "code",
      "execution_count": null,
      "metadata": {
        "id": "CTpkajw_AD1D"
      },
      "outputs": [],
      "source": [
        "# Remove NA Targets\n",
        "\n",
        "train_na_idx = y_train.isna()\n",
        "X_train = X_train[~train_na_idx]\n",
        "y_train = y_train[~train_na_idx]\n",
        "\n",
        "test_na_idx = y_test.isna()\n",
        "X_test = X_test[~test_na_idx]\n",
        "y_test = y_test[~test_na_idx]"
      ]
    },
    {
      "cell_type": "code",
      "execution_count": null,
      "metadata": {
        "id": "zI6AsN_DAx_q"
      },
      "outputs": [],
      "source": [
        "# Standard Scaler\n",
        "scaler = StandardScaler()\n",
        "\n",
        "X_train_standard = scaler.fit_transform(X_train[:, :-5])\n",
        "X_test_standard = scaler.transform(X_test[:, :-5])"
      ]
    },
    {
      "cell_type": "code",
      "execution_count": null,
      "metadata": {
        "id": "hgmrb24GBXvC"
      },
      "outputs": [],
      "source": [
        "# Concat all non-scaled columns with scaled ones\n",
        "X_train_cat = X_train[:, -5:]\n",
        "X_train = np.concatenate([X_train_standard, X_train_cat], axis=1)\n",
        "\n",
        "X_test_cat = X_test[:, -5:]\n",
        "X_test = np.concatenate([X_test_standard, X_test_cat], axis=1)"
      ]
    },
    {
      "cell_type": "code",
      "execution_count": null,
      "metadata": {
        "id": "BZt4DztdCV6g"
      },
      "outputs": [],
      "source": [
        "# Convert them to Dataframe again\n",
        "X_train = pd.DataFrame(X_train, columns=columns).drop([\"Zinc_Copper\", \"copper_zinc\"], axis=1)\n",
        "X_test = pd.DataFrame(X_test, columns=columns).drop([\"Zinc_Copper\", \"copper_zinc\"], axis=1)"
      ]
    },
    {
      "cell_type": "code",
      "execution_count": null,
      "metadata": {
        "id": "mhnQFaV5uXxY"
      },
      "outputs": [],
      "source": [
        "columns.remove(\"Zinc_Copper\")\n",
        "columns.remove(\"copper_zinc\")"
      ]
    },
    {
      "cell_type": "code",
      "execution_count": null,
      "metadata": {
        "colab": {
          "base_uri": "https://localhost:8080/"
        },
        "id": "vkjcpvUSsws2",
        "outputId": "21ed4d96-33a0-47a2-e0b1-3faf2a71c9fe"
      },
      "outputs": [],
      "source": [
        "X_train.shape, X_test.shape"
      ]
    },
    {
      "cell_type": "code",
      "execution_count": null,
      "metadata": {
        "id": "wMzi_JKS1-fU"
      },
      "outputs": [],
      "source": [
        "renaming_dictionary = {\n",
        "    \"hsCRP\": \"hs-CRP\",\n",
        "    \"Glocuse\": \"glucose\",\n",
        "    \"LdL\": 'LDL',\n",
        "    \"Cholesterol\": \"cholesterol\",\n",
        "    \"Triglycerides\": \"triglycerides\",\n",
        "    \"Uricacid\": \"uric acid\",\n",
        "    \"bunincerate\": \"bun incerate\",\n",
        "    \"uriaid_HDL\": \"uric acid to HDL\",\n",
        "    \"Uricacid_bunincerate\": \"uric acid bun incerate\",\n",
        "    \"AnxietyScore\": \"anxiety score\",\n",
        "    \"Diabete\": \"diabetes\",\n",
        "    \"DepressionScore\": \"depression score\",\n",
        "    \"Copper\": \"copper\",\n",
        "    \"Zinc\": \"zinc\",\n",
        "    \"Sex\": \"sex\",\n",
        "    \"smokingstutus_Ex-smoker\": \"smoking status: ex-smoker\",\n",
        "    \"smokingstutus_current smoker\": \"smoking status: current-smoker\",\n",
        "    \"smokingstutus_non smoker\": \"smoking stutus: non-smoker\"\n",
        "}\n",
        "\n",
        "# Final renaming for make the names correct\n",
        "X_train = X_train.rename(renaming_dictionary, axis=1)\n",
        "X_test = X_test.rename(renaming_dictionary, axis=1)"
      ]
    },
    {
      "cell_type": "code",
      "execution_count": null,
      "metadata": {
        "id": "Avj8MDc0dK7D"
      },
      "outputs": [],
      "source": [
        "# save data for regresstion analysis\n",
        "\n",
        "Xy_train = X_train.copy()\n",
        "Xy_train[\"HTN_2_1\"] = y_train.to_numpy()\n",
        "Xy_train.to_csv(\"htn_xy_train.csv\")\n",
        "\n",
        "Xy_test = X_test.copy()\n",
        "Xy_test[\"HTN_2_1\"] = y_test.to_numpy()\n",
        "Xy_test.to_csv(\"htn_xy_test.csv\")"
      ]
    },
    {
      "cell_type": "markdown",
      "metadata": {
        "id": "2ZXdsfyyTaKV"
      },
      "source": [
        "## Utils"
      ]
    },
    {
      "cell_type": "code",
      "execution_count": null,
      "metadata": {
        "id": "LKZP5Rcx0fO1"
      },
      "outputs": [],
      "source": [
        "all_data_label = \"\""
      ]
    },
    {
      "cell_type": "code",
      "execution_count": null,
      "metadata": {
        "id": "74O6uEx8Qj-E"
      },
      "outputs": [],
      "source": [
        "def get_best_threshold(y_true, y_pred):\n",
        "  fpr, tpr, thresholds = roc_curve(y_true, y_pred)\n",
        "  max_index = np.argmax(tpr + (1 - fpr))\n",
        "  return thresholds[max_index]"
      ]
    },
    {
      "cell_type": "code",
      "execution_count": null,
      "metadata": {
        "id": "maeisMt5TaKV"
      },
      "outputs": [],
      "source": [
        "def showConfusionMatrix(y_true, y_pred, name, display_labels=None,\n",
        "                        figsize=(4, 3), dpi=400,\n",
        "                        title_fontsize=24, label_fontsize=20,\n",
        "                        tick_rotation=0,\n",
        "                        values_format=None, normalize=None):\n",
        "    \"\"\"\n",
        "    Colab-optimized confusion matrix visualization.\n",
        "    \"\"\"\n",
        "    # Create figure and axes first\n",
        "    fig, ax = plt.subplots(figsize=(12, 16), dpi=dpi, facecolor='white')\n",
        "\n",
        "    # Generate confusion matrix display\n",
        "    disp = ConfusionMatrixDisplay.from_predictions(\n",
        "        y_true, y_pred,\n",
        "        display_labels=display_labels,\n",
        "        normalize=normalize,\n",
        "        xticks_rotation=tick_rotation,\n",
        "        values_format=values_format,\n",
        "        ax=ax,  # Explicitly specify the axes\n",
        "        colorbar=False,\n",
        "        include_values=True\n",
        "    )\n",
        "\n",
        "\n",
        "    for text in disp.text_.ravel():\n",
        "        text.set_fontsize(28)\n",
        "\n",
        "    # Customize appearance\n",
        "    disp.ax_.set_title(name, fontsize=title_fontsize, pad=20)\n",
        "    disp.ax_.set_xlabel('Predicted Label', fontsize=label_fontsize)\n",
        "    disp.ax_.set_ylabel('True Label', fontsize=label_fontsize)\n",
        "    disp.ax_.tick_params(axis='both', labelsize=label_fontsize-2)\n",
        "\n",
        "    # Add colorbar with colab-friendly settings\n",
        "    cbar = fig.colorbar(disp.im_, ax=ax, fraction=0.046, pad=0.04)\n",
        "    cbar.ax.tick_params(labelsize=label_fontsize-2)\n",
        "\n",
        "\n",
        "    # Colab-specific layout adjustments\n",
        "    plt.tight_layout()\n",
        "    plt.show()\n",
        "    plt.close(fig)  # Clear memory after display\n",
        "\n",
        "def generate_single_report(X, y_true, y_pred, y_pred_prob = None, name = \"\"):\n",
        "    print(f\"#================={name}=================#\")\n",
        "    print(classification_report(y_true, y_pred, target_names=target_names))\n",
        "\n",
        "    if y_pred_prob is not None:\n",
        "        roc_value = roc_auc_score(y_true, y_pred_prob)\n",
        "        print(f\"\\nROC AUC: {roc_value}\")\n",
        "\n",
        "    showConfusionMatrix(y_true, y_pred, name)\n",
        "\n",
        "    return y_pred\n",
        "\n",
        "def report(estimator, X_train, X_test, y_pred_prob_f=None, name=\"\", y_train=y_train, y_test=y_test):\n",
        "    y_pred_prob_train = y_pred_prob_f(X_train) if y_pred_prob_f is not None else None\n",
        "    y_pred_prob_test = y_pred_prob_f(X_test) if y_pred_prob_f is not None else None\n",
        "\n",
        "    best_threshold = get_best_threshold(y_train, y_pred_prob_train) if y_pred_prob_train is not None else 0.5\n",
        "\n",
        "    y_pred_train = estimator(X_train)\n",
        "    y_pred_test = estimator(X_test)\n",
        "    if (np.mod(y_pred_train[0], 1) != 0):\n",
        "      y_pred_train = np.where(y_pred_train < best_threshold, 0, 1)\n",
        "      y_pred_test = np.where(y_pred_test < best_threshold, 0, 1)\n",
        "\n",
        "    if (best_threshold != 0.5):\n",
        "      print(f\"Best Threshold: {best_threshold}\")\n",
        "\n",
        "    generate_single_report(X_train, y_train, y_pred_train, y_pred_prob_train, f\"{name} - Train\")\n",
        "    generate_single_report(X_test, y_test, y_pred_test,y_pred_prob_test, f\"{name} - Test\")\n",
        "    print(\"\\n#==============================================================#\")"
      ]
    },
    {
      "cell_type": "code",
      "execution_count": null,
      "metadata": {
        "id": "7_erOBOsCOm-"
      },
      "outputs": [],
      "source": [
        "# shap_value should be type of `Explainer`\n",
        "def plotBar(shap_value, with_cohort=True, last_index=len(X_test)):\n",
        "  fig, ax = plt.subplots(figsize=(10, 14), dpi=400, facecolor='white')\n",
        "  if (with_cohort):\n",
        "    cohort = np.where(X_test[:last_index].Sex == 1, \"Female\", \"Male\" )\n",
        "    shap.plots.bar(shap_value.cohorts(cohort).abs.mean(0), max_display=18, ax=ax)\n",
        "  else:\n",
        "    shap.plots.bar(shap_value, max_display=18, ax=ax)"
      ]
    },
    {
      "cell_type": "code",
      "execution_count": null,
      "metadata": {
        "id": "eUkI1LzeJ7n3"
      },
      "outputs": [],
      "source": [
        "def get_correct_df(estimator, X, y):\n",
        "  y_pred = estimator(X)\n",
        "\n",
        "  # Check if the predictions are probabilites by default\n",
        "  if (np.mod(y_pred[0], 1) != 0):\n",
        "    y_pred = np.round(y_pred)\n",
        "\n",
        "  correct_idx = y_pred == y\n",
        "  return X[correct_idx.values], y[correct_idx.values]"
      ]
    },
    {
      "cell_type": "code",
      "execution_count": null,
      "metadata": {
        "id": "zkF5_vcOG8dA"
      },
      "outputs": [],
      "source": [
        "def get_ann_shap(model, X_train, y_train, X_test, y_test, last_index=250):\n",
        "  ann_estimator = lambda x: model.predict(x)[:, 0]\n",
        "  ann_explainer = shap.explainers.Permutation(model.predict, X_train)\n",
        "  X_test_correct, y_test_correct = get_correct_df(ann_estimator, X_test, y_test)\n",
        "  ann_shap = ann_explainer(X_test_correct[:last_index])\n",
        "\n",
        "  return ann_shap, X_test_correct, y_test_correct"
      ]
    },
    {
      "cell_type": "code",
      "execution_count": null,
      "metadata": {
        "id": "3HKz8CX5w30V"
      },
      "outputs": [],
      "source": [
        "import copy\n",
        "\n",
        "def filter_shap_by_column(shap_value, column_index, condition_value, condition_type='equal'):\n",
        "  modified_shap = copy.deepcopy(shap_value)\n",
        "\n",
        "  if (condition_type == 'equal'):\n",
        "    condition = modified_shap.data[:, column_index] == condition_value\n",
        "\n",
        "  modified_shap.values = modified_shap.values[condition]\n",
        "  modified_shap.data = modified_shap.data[condition]\n",
        "  modified_shap.base_values = modified_shap.base_values[condition]\n",
        "\n",
        "  # Drop column_index column\n",
        "  modified_shap.values = np.concatenate([modified_shap.values[:, :column_index], modified_shap.values[:, column_index + 1:]], axis=1)\n",
        "  modified_shap.data = np.concatenate([modified_shap.data[:, :column_index], modified_shap.data[:, column_index + 1:]], axis=1)\n",
        "\n",
        "  return modified_shap"
      ]
    },
    {
      "cell_type": "code",
      "execution_count": null,
      "metadata": {
        "id": "I0kAUJZ7w4IQ"
      },
      "outputs": [],
      "source": [
        "def filter_pair_df_by_column(X, y, column_name, condition_value, condition_type='equal'):\n",
        "  condition = X[column_name] == condition_value\n",
        "  return X.loc[condition.values], y.loc[condition.values]"
      ]
    },
    {
      "cell_type": "code",
      "execution_count": null,
      "metadata": {
        "id": "V2WBl4FyF8Jd"
      },
      "outputs": [],
      "source": [
        "def plot_roc_curve(fpr, tpr):\n",
        "    plt.plot(fpr, tpr, color='orange', label='ROC')\n",
        "    plt.plot([0, 1], [0, 1], color='darkblue', linestyle='--')\n",
        "    plt.xlabel('False Positive Rate')\n",
        "    plt.ylabel('True Positive Rate')\n",
        "    plt.title('Receiver Operating Characteristic (ROC) Curve')\n",
        "    plt.legend()\n",
        "    plt.show()"
      ]
    },
    {
      "cell_type": "code",
      "execution_count": null,
      "metadata": {
        "id": "O9LAkqvus-VZ"
      },
      "outputs": [],
      "source": [
        "def show_shap_bar(values):\n",
        "    fig, ax = plt.subplots(figsize=(10, 12), dpi=400, facecolor='white')\n",
        "    shap.plots.bar(values, max_display=15, ax=ax)\n",
        "\n",
        "def show_shap_beeswarm(values):\n",
        "    shap.plots.beeswarm(values, max_display=15, plot_size=(12, 10))"
      ]
    },
    {
      "cell_type": "code",
      "execution_count": null,
      "metadata": {
        "id": "EcyrqLwRypfZ"
      },
      "outputs": [],
      "source": [
        "X_test_male, y_test_male = filter_pair_df_by_column(X_test, y_test, 'sex', 0)\n",
        "X_test_female, y_test_female = filter_pair_df_by_column(X_test, y_test, 'sex', 1)\n",
        "\n",
        "X_train_male, y_train_male = filter_pair_df_by_column(X_train, y_train, 'sex', 0)\n",
        "X_train_female, y_train_female = filter_pair_df_by_column(X_train, y_train, 'sex', 1)\n",
        "\n",
        "sex_column_index = X_train.columns.get_loc('sex')"
      ]
    },
    {
      "cell_type": "markdown",
      "metadata": {
        "id": "pb6TGRLvCGqN"
      },
      "source": [
        "## Models"
      ]
    },
    {
      "cell_type": "markdown",
      "metadata": {
        "id": "ORnxr7xp2Hhi"
      },
      "source": [
        "### BayesianRidge"
      ]
    },
    {
      "cell_type": "code",
      "execution_count": null,
      "metadata": {
        "id": "_FzXU1Bo1ZQG"
      },
      "outputs": [],
      "source": [
        "def br_runner(X_train, y_train, X_test, name):\n",
        "  param_grid = {\n",
        "      \"n_iter\": [10, 20, 30, 50, 100, 150, 300, 600],\n",
        "  }\n",
        "  grid = GridSearchCV(BayesianRidge(), param_grid, cv=5).fit(X_train, y_train)\n",
        "\n",
        "  if hasattr(grid, 'best_params_'):\n",
        "    print(grid.best_params_)\n",
        "\n",
        "  report(grid.predict, X_train, X_test, lambda X: grid.predict(X))\n",
        "\n",
        "  model = grid.best_estimator_\n",
        "\n",
        "  model_explainer = shap.Explainer(model, X_train)\n",
        "  X_test_correct, y_test_correct = get_correct_df(model.predict, X_test, y_test)\n",
        "  model_shap = model_explainer(X_test_correct)\n",
        "\n",
        "  return model, model_explainer, model_shap, X_test_correct, y_test_correct, grid"
      ]
    },
    {
      "cell_type": "markdown",
      "metadata": {
        "id": "msLsB2ZuZo9K"
      },
      "source": [
        "#### Performance Report"
      ]
    },
    {
      "cell_type": "code",
      "execution_count": null,
      "metadata": {
        "id": "YreMl7d12iDc"
      },
      "outputs": [],
      "source": [
        "br_model, br_explainer, br_shap, br_X_test_correct, br_y_test_correct, br_grid  = br_runner(X_train, y_train, X_test, f\"BR - {all_data_label}\")"
      ]
    },
    {
      "cell_type": "markdown",
      "metadata": {
        "id": "-CJfZX3J85FQ"
      },
      "source": [
        "#### Shap Bee Swarm"
      ]
    },
    {
      "cell_type": "code",
      "execution_count": null,
      "metadata": {
        "id": "Rpfhhwz-87hU"
      },
      "outputs": [],
      "source": [
        "show_shap_beeswarm(br_shap)"
      ]
    },
    {
      "cell_type": "markdown",
      "metadata": {
        "id": "GyOm61FSTaKW"
      },
      "source": [
        "### KNN"
      ]
    },
    {
      "cell_type": "code",
      "execution_count": null,
      "metadata": {
        "id": "IPl9vKLXTaKW"
      },
      "outputs": [],
      "source": [
        "def knn_runner(X_train, y_train, X_test, name):\n",
        "  param_grid = {\n",
        "      \"n_neighbors\": [8, 14, 18, 22],\n",
        "  }\n",
        "  grid = GridSearchCV(KNeighborsClassifier(weights=\"uniform\"), param_grid, cv=5).fit(X_train, y_train)\n",
        "\n",
        "  if hasattr(grid, 'best_params_'):\n",
        "    print(grid.best_params_)\n",
        "\n",
        "  report(grid.predict, X_train, X_test, lambda X: grid.predict_proba(X)[:, 1], name)\n",
        "\n",
        "  model = grid.best_estimator_\n",
        "\n",
        "  model_explainer = shap.KernelExplainer(model.predict_proba, shap.kmeans(X_train, 30))\n",
        "  X_test_correct, y_test_correct = get_correct_df(model.predict, X_test, y_test)\n",
        "  model_shap = model_explainer(X_test_correct)\n",
        "\n",
        "\n",
        "  return model, model_explainer, model_shap, X_test_correct, y_test_correct, grid"
      ]
    },
    {
      "cell_type": "markdown",
      "metadata": {
        "id": "mzPMxN6JZttR"
      },
      "source": [
        "##### Performance Report"
      ]
    },
    {
      "cell_type": "code",
      "execution_count": null,
      "metadata": {
        "colab": {
          "base_uri": "https://localhost:8080/",
          "referenced_widgets": [
            "7fc5fc01ef474264a7667f72d2bc7170",
            "29bd68c10eab4e1197e33995f39c330e",
            "4e080d45428947ce8cff512dfefc2129",
            "c8622baf1762459cbc0b7c063ea20496",
            "a5f32344e3c1455cbe47fa3bcbfa5cff",
            "403ffd042b314db5be0980e4e65380cf",
            "98cb46c9897c47beba387e554cd602f0",
            "4048cd77cd644811909f80843bf0cdff",
            "a704c276182c4f1eacf8a97f31d6864b",
            "605278e09db647a6ba98e3b4196aef23",
            "2ff05e6e492e458f93ff2b58137eaf5a"
          ]
        },
        "id": "7jZ5izvu0_DN",
        "outputId": "50258d5e-3b19-42c5-ae48-d487ec5297bc"
      },
      "outputs": [],
      "source": [
        "knn_model, knn_explainer, knn_shap, knn_X_test_correct, knn_y_test_correct, knn_grid  = knn_runner(X_train, y_train, X_test, f\"KNN\")"
      ]
    },
    {
      "cell_type": "markdown",
      "metadata": {
        "id": "1pRyE-9tb4NM"
      },
      "source": [
        "##### Shap Bar"
      ]
    },
    {
      "cell_type": "code",
      "execution_count": null,
      "metadata": {
        "colab": {
          "base_uri": "https://localhost:8080/"
        },
        "id": "i38UfZ2hMEK7",
        "outputId": "8002b3ce-c810-4da3-a2d4-8315e096a55c"
      },
      "outputs": [],
      "source": [
        "show_shap_bar(knn_shap[:, :, 1])"
      ]
    },
    {
      "cell_type": "markdown",
      "metadata": {
        "id": "a7rAE7gFZvm9"
      },
      "source": [
        "##### Shap Beeswarm"
      ]
    },
    {
      "cell_type": "code",
      "execution_count": null,
      "metadata": {
        "colab": {
          "base_uri": "https://localhost:8080/"
        },
        "id": "DvDdVTlZMHtD",
        "outputId": "6eaeeddb-69b1-4541-b396-9439b53c7501"
      },
      "outputs": [],
      "source": [
        "show_shap_beeswarm(knn_shap[:, :, 1])"
      ]
    },
    {
      "cell_type": "markdown",
      "metadata": {
        "id": "1MOYYj4QTaKW"
      },
      "source": [
        "### Logistic Regression"
      ]
    },
    {
      "cell_type": "code",
      "execution_count": null,
      "metadata": {
        "id": "owOWSp8CTaKW"
      },
      "outputs": [],
      "source": [
        "def lr_runner(X_train, y_train, X_test, y_test, name):\n",
        "  model = LogisticRegressionCV(cv=5, random_state=42, max_iter=10_00).fit(X_train, y_train)\n",
        "\n",
        "  if hasattr(model, 'best_params_'):\n",
        "    print(model.best_params_)\n",
        "  report(model.predict, X_train, X_test, lambda X: model.predict_proba(X)[:, 1], name)\n",
        "\n",
        "  feature_importance = model.coef_.flatten()\n",
        "\n",
        "  model_explainer = shap.Explainer(model, X_train)\n",
        "  X_test_correct, y_test_correct = get_correct_df(model.predict, X_test, y_test)\n",
        "  model_shap = model_explainer(X_test_correct)\n",
        "\n",
        "  return model, model_explainer, model_shap, feature_importance, X_test_correct, y_test_correct"
      ]
    },
    {
      "cell_type": "markdown",
      "metadata": {
        "id": "_G4Tk2ZIFhja"
      },
      "source": [
        "##### Performance Report"
      ]
    },
    {
      "cell_type": "code",
      "execution_count": null,
      "metadata": {
        "colab": {
          "base_uri": "https://localhost:8080/"
        },
        "id": "coR40NtA0WDJ",
        "outputId": "555e93a7-2c7e-4337-c25e-49fa892826e2"
      },
      "outputs": [],
      "source": [
        "lr_model, lr_explainer, lr_shap, lr_feature_importance, lr_X_test_correct, lr_y_test_correct = lr_runner(X_train, y_train, X_test, y_test, \"Logistic Regression\")"
      ]
    },
    {
      "cell_type": "markdown",
      "metadata": {
        "id": "QPg_n1jKL8AK"
      },
      "source": [
        "##### Shap Bar"
      ]
    },
    {
      "cell_type": "code",
      "execution_count": null,
      "metadata": {
        "colab": {
          "base_uri": "https://localhost:8080/"
        },
        "id": "BRBkvjf1L_md",
        "outputId": "6d5e5b3a-fdbc-488e-e8b5-912b5e471421"
      },
      "outputs": [],
      "source": [
        "show_shap_bar(lr_shap)"
      ]
    },
    {
      "cell_type": "markdown",
      "metadata": {
        "id": "x9DWCSoSL9Yq"
      },
      "source": [
        "##### Shap Beeswarm"
      ]
    },
    {
      "cell_type": "code",
      "execution_count": null,
      "metadata": {
        "colab": {
          "base_uri": "https://localhost:8080/"
        },
        "id": "nusqQK61MBwM",
        "outputId": "e85804da-80eb-45f3-bf31-4547fd7cdc38"
      },
      "outputs": [],
      "source": [
        "show_shap_beeswarm(lr_shap)"
      ]
    },
    {
      "cell_type": "markdown",
      "metadata": {
        "id": "7bxAPp1hTaKW"
      },
      "source": [
        "### Random Forest"
      ]
    },
    {
      "cell_type": "code",
      "execution_count": null,
      "metadata": {
        "id": "0keZrL8ETaKW"
      },
      "outputs": [],
      "source": [
        "def rf_runner(X_train, y_train, X_test, name):\n",
        "  param_grid = {\"n_estimators\": [50, 60, 70], \"max_depth\": [4, 6]}\n",
        "\n",
        "  class_weight = {0: 1, 1: 2}\n",
        "\n",
        "  grid = GridSearchCV(RandomForestClassifier(random_state=42, class_weight=class_weight), param_grid, cv=5).fit(\n",
        "      X_train, y_train\n",
        "  )\n",
        "\n",
        "  if hasattr(grid, 'best_params_'):\n",
        "    print(grid.best_params_)\n",
        "  report(grid.predict, X_train, X_test, lambda X: grid.predict_proba(X)[:, 1], name)\n",
        "\n",
        "  model = grid.best_estimator_\n",
        "\n",
        "  feature_importance = model.feature_importances_\n",
        "\n",
        "  model_explainer = shap.Explainer(model)\n",
        "  X_test_correct, y_test_correct = get_correct_df(model.predict, X_test, y_test)\n",
        "  model_shap = model_explainer(X_test_correct)\n",
        "\n",
        "  return model, model_explainer, model_shap, feature_importance, X_test_correct, y_test_correct"
      ]
    },
    {
      "cell_type": "markdown",
      "metadata": {
        "id": "6lnaf-vJFmki"
      },
      "source": [
        "##### Performance Report"
      ]
    },
    {
      "cell_type": "code",
      "execution_count": null,
      "metadata": {
        "colab": {
          "base_uri": "https://localhost:8080/",
          "height": 1000
        },
        "id": "PO4IUQJ0yDBX",
        "outputId": "968a4d87-e922-4e7a-a1f0-38588db35500"
      },
      "outputs": [],
      "source": [
        "rf_model, rf_explainer, rf_shap, rf_feature_importance, rf_X_test_correct, rf_y_test_correct  = rf_runner(X_train, y_train, X_test, \"Random Forest\")"
      ]
    },
    {
      "cell_type": "markdown",
      "metadata": {
        "id": "dURMJonwLViS"
      },
      "source": [
        "##### Shap Bar"
      ]
    },
    {
      "cell_type": "code",
      "execution_count": null,
      "metadata": {
        "colab": {
          "base_uri": "https://localhost:8080/",
          "height": 1000
        },
        "id": "iS_azPGmLTZ9",
        "outputId": "37276117-6437-4848-88b2-7f4002d07a5f"
      },
      "outputs": [],
      "source": [
        "show_shap_bar(rf_shap[:, :, 1])"
      ]
    },
    {
      "cell_type": "markdown",
      "metadata": {
        "id": "BVGuE7eMLXz_"
      },
      "source": [
        "##### Shap Beeswarm"
      ]
    },
    {
      "cell_type": "code",
      "execution_count": null,
      "metadata": {
        "colab": {
          "base_uri": "https://localhost:8080/",
          "height": 861
        },
        "id": "_o2Y2xkxLXnN",
        "outputId": "456467cc-4f33-4ed5-82a6-62a9704b4cbf"
      },
      "outputs": [],
      "source": [
        "show_shap_beeswarm(rf_shap[:, :, 1])"
      ]
    },
    {
      "cell_type": "markdown",
      "metadata": {
        "id": "BboF5RleTaKW"
      },
      "source": [
        "### XGBoost"
      ]
    },
    {
      "cell_type": "code",
      "execution_count": null,
      "metadata": {
        "id": "4UyFAt2lTaKX"
      },
      "outputs": [],
      "source": [
        "def xgb_runner(X_train, y_train, X_test, name):\n",
        "  param_grid = {\n",
        "      \"n_estimators\": [100],\n",
        "      \"max_depth\": [3],\n",
        "  }\n",
        "\n",
        "  grid = GridSearchCV(xgb.XGBClassifier(random_state=42, tree_method=\"approx\", scale_pos_weight=2.3), param_grid, cv=3, scoring=\"f1_weighted\").fit(\n",
        "      X_train, y_train\n",
        "  )\n",
        "\n",
        "  if hasattr(grid, 'best_params_'):\n",
        "    print(grid.best_params_)\n",
        "  report(grid.predict, X_train, X_test, lambda X: grid.predict_proba(X)[:, 1], name)\n",
        "\n",
        "  model = grid.best_estimator_\n",
        "  feature_importance = model.feature_importances_\n",
        "\n",
        "  model_explainer = shap.Explainer(model, X_train)\n",
        "  X_test_correct, y_test_correct = get_correct_df(model.predict, X_test, y_test)\n",
        "  model_shap = model_explainer(X_test_correct)\n",
        "\n",
        "  return model, model_explainer, model_shap, feature_importance, X_test_correct, y_test_correct, grid"
      ]
    },
    {
      "cell_type": "markdown",
      "metadata": {
        "id": "mSYLTM0CFqiW"
      },
      "source": [
        "##### Performance Report"
      ]
    },
    {
      "cell_type": "code",
      "execution_count": null,
      "metadata": {
        "colab": {
          "base_uri": "https://localhost:8080/"
        },
        "id": "mYZ7remX29vN",
        "outputId": "168ebca5-fadd-4414-d599-17f568ab6c8a"
      },
      "outputs": [],
      "source": [
        "xgb_model, xgb_explainer, xgb_shap, xgb_feature_importance, xgb_X_test_correct, xgb_y_test_correct, xgb_grid  = xgb_runner(X_train, y_train, X_test, \"XGBoost\")"
      ]
    },
    {
      "cell_type": "markdown",
      "metadata": {
        "id": "Z9aAo6wUGpFr"
      },
      "source": [
        "##### Shap Bar"
      ]
    },
    {
      "cell_type": "code",
      "execution_count": null,
      "metadata": {
        "colab": {
          "base_uri": "https://localhost:8080/"
        },
        "id": "W17Q9rPcJraG",
        "outputId": "8cdffabd-7d35-4aa7-d9d0-a00b6c6a456c"
      },
      "outputs": [],
      "source": [
        "show_shap_bar(xgb_shap)"
      ]
    },
    {
      "cell_type": "markdown",
      "metadata": {
        "id": "Y1pX_QvyJt57"
      },
      "source": [
        "##### Shap Beeswarm"
      ]
    },
    {
      "cell_type": "code",
      "execution_count": null,
      "metadata": {
        "colab": {
          "base_uri": "https://localhost:8080/"
        },
        "id": "gMmy9SzYJtUo",
        "outputId": "7d90f8cf-7738-4043-b520-042fe18ff415"
      },
      "outputs": [],
      "source": [
        "show_shap_beeswarm(xgb_shap)"
      ]
    },
    {
      "cell_type": "markdown",
      "metadata": {
        "id": "39tlWqMxTaKX"
      },
      "source": [
        "### Neural Network"
      ]
    },
    {
      "cell_type": "code",
      "execution_count": null,
      "metadata": {
        "id": "HLydxRm8TaKX"
      },
      "outputs": [],
      "source": [
        "import tensorflow as tf\n",
        "def ann_runner(X_train, y_train, X_test, y_test, name):\n",
        "  tf.keras.utils.set_random_seed(812)\n",
        "\n",
        "  model = tf.keras.models.Sequential(\n",
        "      [\n",
        "          tf.keras.Input(shape=(X_train.shape[1],)),\n",
        "          tf.keras.layers.Dense(32, activation=\"leaky_relu\"),\n",
        "          tf.keras.layers.Dense(16, activation=\"leaky_relu\"),\n",
        "          tf.keras.layers.Dense(4, activation=\"leaky_relu\"),\n",
        "          tf.keras.layers.Dense(1, activation=\"sigmoid\"),\n",
        "      ]\n",
        "  )\n",
        "  # model = tf.keras.models.Sequential(\n",
        "  #     [\n",
        "  #         tf.keras.Input(shape=(X_train.shape[1],)),\n",
        "  #         tf.keras.layers.Dense(512, activation=\"leaky_relu\"),\n",
        "  #         tf.keras.layers.Dense(1, activation=\"sigmoid\"),\n",
        "  #     ]\n",
        "  # )\n",
        "\n",
        "  class_weight = {0: 1.,\n",
        "                1: 1.5}\n",
        "\n",
        "  earlyStopping = tf.keras.callbacks.EarlyStopping(monitor='val_loss', patience=10, restore_best_weights=True)\n",
        "\n",
        "  model.compile(optimizer=tf.keras.optimizers.AdamW(learning_rate=0.0002, weight_decay=0.007), loss=tf.keras.losses.BinaryCrossentropy(from_logits=False), metrics=[tf.keras.metrics.AUC()])\n",
        "  model.fit(X_train, y_train, validation_split=0.2, epochs=1000, batch_size=1024, class_weight=class_weight, callbacks=[earlyStopping], verbose=0)\n",
        "  print()\n",
        "  estimator = lambda x: model.predict(x)[:, 0]\n",
        "  report(estimator, X_train, X_test, estimator, name, y_train=y_train, y_test=y_test)\n",
        "\n",
        "  return model, estimator"
      ]
    },
    {
      "cell_type": "markdown",
      "metadata": {
        "id": "lJNfFdXXFx7t"
      },
      "source": [
        "##### Performance Report"
      ]
    },
    {
      "cell_type": "code",
      "execution_count": null,
      "metadata": {
        "colab": {
          "base_uri": "https://localhost:8080/",
          "height": 1000
        },
        "id": "IuBY1nuM3wGC",
        "outputId": "2a8d93f9-241f-4f73-ed38-f03673ab86db"
      },
      "outputs": [],
      "source": [
        "ann_model, ann_estimator = ann_runner(X_train, y_train, X_test, y_test, \"Neural Network\")"
      ]
    },
    {
      "cell_type": "markdown",
      "metadata": {
        "id": "N17XsOjlTxJH"
      },
      "source": [
        "##### Neural Network Structure"
      ]
    },
    {
      "cell_type": "code",
      "execution_count": null,
      "metadata": {
        "colab": {
          "base_uri": "https://localhost:8080/"
        },
        "id": "Aa2tDMcwTvEq",
        "outputId": "35e2286f-b417-4b4a-8527-c4aaaa38c9a8"
      },
      "outputs": [],
      "source": [
        "ann_model.summary()"
      ]
    },
    {
      "cell_type": "code",
      "execution_count": null,
      "metadata": {
        "colab": {
          "base_uri": "https://localhost:8080/"
        },
        "id": "XByRKCqxlAxi",
        "outputId": "6e6a3e83-4b8f-4955-c558-7e8d93f81923"
      },
      "outputs": [],
      "source": [
        "%%time\n",
        "if (os.path.exists('ann_shap.pickle')):\n",
        "  with open(f'ann_shap.pickle', 'rb') as file:\n",
        "    ann_shap = pickle.load(file)\n",
        "  with open(f'ann_X_test_correct.pickle', 'rb') as file:\n",
        "    ann_X_test_correct = pickle.load(file)\n",
        "  with open(f'ann_y_test_correct.pickle', 'rb') as file:\n",
        "    ann_y_test_correct = pickle.load(file)\n",
        "else:\n",
        "  # I seperate it because it tooks a lot of time to respond!\n",
        "  # DO NOT run this cell if you don't have at least 7mins time (for 100 record)\n",
        "  ann_shap, ann_X_test_correct, ann_y_test_correct = get_ann_shap(ann_model, X_train, y_train, X_test, y_test)\n",
        "  with open(f'ann_shap.pickle', 'wb') as file:\n",
        "    pickle.dump(ann_shap, file)\n",
        "  with open(f'ann_X_test_correct.pickle', 'wb') as file:\n",
        "    pickle.dump(ann_X_test_correct, file)\n",
        "  with open(f'ann_y_test_correct.pickle', 'wb') as file:\n",
        "    pickle.dump(ann_y_test_correct, file)"
      ]
    },
    {
      "cell_type": "markdown",
      "metadata": {
        "id": "ZnIcH6eeKu0r"
      },
      "source": [
        "##### Shap Bar"
      ]
    },
    {
      "cell_type": "code",
      "execution_count": null,
      "metadata": {
        "colab": {
          "base_uri": "https://localhost:8080/",
          "height": 1000
        },
        "id": "IZ6mXYGKKzfo",
        "outputId": "d3104283-9420-41fb-f7ed-47b64e7edcba"
      },
      "outputs": [],
      "source": [
        "plotBar(ann_shap, False, 100)"
      ]
    },
    {
      "cell_type": "markdown",
      "metadata": {
        "id": "E_YnzJeBK0N3"
      },
      "source": [
        "##### Shap Beeswarm"
      ]
    },
    {
      "cell_type": "code",
      "execution_count": null,
      "metadata": {
        "colab": {
          "base_uri": "https://localhost:8080/",
          "height": 1000
        },
        "id": "KVR9r9b4K514",
        "outputId": "5a644eed-871d-4fd6-bc63-30304e202081"
      },
      "outputs": [],
      "source": [
        "shap.plots.beeswarm(ann_shap, max_display=18, plot_size=(12, 12))"
      ]
    },
    {
      "cell_type": "markdown",
      "metadata": {
        "id": "fXnUyS4l4qDT"
      },
      "source": [
        "## Feature Importance"
      ]
    },
    {
      "cell_type": "code",
      "execution_count": null,
      "metadata": {
        "id": "7pwfC5dqNh-Q"
      },
      "outputs": [],
      "source": [
        "def show_shap_fi(lr_shap, rf_shap, xgb_shap, ann_shap, columns=columns):\n",
        "  lr_shap_imp = np.mean(np.abs(lr_shap.values), 0)\n",
        "  knn_shap_imp = np.mean(np.abs(knn_shap[:, :, 1].values), 0)\n",
        "  rf_shap_imp = np.mean(np.abs(rf_shap[:, :, 1].values), 0)\n",
        "  xgb_shap_imp = np.mean(np.abs(xgb_shap.values), 0)\n",
        "  ann_shap_imp = np.mean(np.abs(ann_shap.values), 0)\n",
        "  print(\">>\",ann_shap_imp.shape)\n",
        "\n",
        "  feature_importances_columns = ['lr_shap_imp', 'knn_shap_imp', 'rf_shap_imp', 'xgb_shap_imp', 'ann_shap_imp']\n",
        "\n",
        "  shap_imp_df = pd.DataFrame({\n",
        "      'feature': columns,\n",
        "      'rf_shap_imp': rf_shap_imp,\n",
        "      'knn_shap_imp': knn_shap_imp,\n",
        "      'xgb_shap_imp': xgb_shap_imp,\n",
        "      'lr_shap_imp': lr_shap_imp,\n",
        "      'ann_shap_imp': ann_shap_imp,\n",
        "      })\n",
        "\n",
        "  shap_imp_df = shap_imp_df.sort_values('xgb_shap_imp', ascending=False)\n",
        "  shap_imp_df = shap_imp_df.style.format( '{:.4f}', subset=feature_importances_columns).bar(subset=feature_importances_columns, color='#511db8', width=60)\n",
        "\n",
        "  return shap_imp_df"
      ]
    },
    {
      "cell_type": "code",
      "execution_count": null,
      "metadata": {
        "id": "1xi9nF3vOkV_"
      },
      "outputs": [],
      "source": [
        "def show_normalized_shap_fi(lr_shap, rf_shap, xgb_shap, ann_shap, columns=columns):\n",
        "  lr_shap_imp = np.mean(np.abs(lr_shap.values), 0)\n",
        "  rf_shap_imp = np.mean(np.abs(rf_shap[:, :, 1].values), 0)\n",
        "  xgb_shap_imp = np.mean(np.abs(xgb_shap.values), 0)\n",
        "  ann_shap_imp = np.mean(np.abs(ann_shap.values), 0)\n",
        "\n",
        "  lr_shap_prob = lr_shap_imp / np.sum(lr_shap_imp) * 100\n",
        "  rf_shap_prob = rf_shap_imp / np.sum(rf_shap_imp) * 100\n",
        "  xgb_shap_prob = xgb_shap_imp / np.sum(xgb_shap_imp) * 100\n",
        "  ann_shap_prob = ann_shap_imp / np.sum(ann_shap_imp) * 100\n",
        "\n",
        "  feature_importances_columns = ['lr_shap_prob', 'rf_shap_prob', 'xgb_shap_prob', 'ann_shap_prob']\n",
        "\n",
        "  shap_imp_df = pd.DataFrame({\n",
        "      'feature': columns,\n",
        "      'rf_shap_prob': rf_shap_prob,\n",
        "      'xgb_shap_prob': xgb_shap_prob,\n",
        "      'lr_shap_prob': lr_shap_prob,\n",
        "      'ann_shap_prob': ann_shap_prob,\n",
        "      })\n",
        "\n",
        "  shap_imp_df = shap_imp_df.sort_values('ann_shap_prob', ascending=False)\n",
        "  shap_imp_df = shap_imp_df.style.format( '{:.2f}', subset=feature_importances_columns).bar(subset=feature_importances_columns, color='#511db8', width=60)\n",
        "\n",
        "  return shap_imp_df"
      ]
    },
    {
      "cell_type": "markdown",
      "metadata": {
        "id": "XE1q2Ek0GP3C"
      },
      "source": [
        "#### Shap Feature Importance"
      ]
    },
    {
      "cell_type": "code",
      "execution_count": null,
      "metadata": {
        "colab": {
          "base_uri": "https://localhost:8080/",
          "height": 1000
        },
        "id": "Ygg9uVbtN6K5",
        "outputId": "620bbde4-47e5-45df-d711-40cddcfeba72"
      },
      "outputs": [],
      "source": [
        "show_shap_fi(lr_shap, rf_shap, xgb_shap, ann_shap)"
      ]
    },
    {
      "cell_type": "code",
      "execution_count": null,
      "metadata": {
        "id": "7DmbvYVbOk9b"
      },
      "outputs": [],
      "source": [
        "# Throws error: All arrays must be of the same length\n",
        "# show_shap_fi(lr_pure_shap, rf_pure_shap[:, :, 1], xgb_pure_shap)"
      ]
    },
    {
      "cell_type": "markdown",
      "metadata": {
        "id": "R0ZGnbFheMRr"
      },
      "source": [
        "#### Shap Normalized Feature Importance (Probability Distribution %)"
      ]
    },
    {
      "cell_type": "code",
      "execution_count": null,
      "metadata": {
        "colab": {
          "base_uri": "https://localhost:8080/",
          "height": 1000
        },
        "id": "8ySBr9jveVX-",
        "outputId": "01a6aca7-210e-4b4e-d657-37d07f89bb9a"
      },
      "outputs": [],
      "source": [
        "show_normalized_shap_fi(lr_shap, rf_shap, xgb_shap, ann_shap)"
      ]
    },
    {
      "cell_type": "markdown",
      "metadata": {
        "id": "3OUWMF6jGUGJ"
      },
      "source": [
        "#### Legacy Feature Importance\n",
        "\n",
        "We don't have Neural Network Feature Importance in this method."
      ]
    },
    {
      "cell_type": "code",
      "execution_count": null,
      "metadata": {
        "id": "hh4BFYYEPGpa"
      },
      "outputs": [],
      "source": [
        "def show_fi(lr_fi, rf_fi, xgb_fi):\n",
        "  feature_importances_columns = ['lr_feature_importance', 'rf_feature_importance', 'xgb_feature_importance']\n",
        "\n",
        "  fr_df = pd.DataFrame({\n",
        "      'feature': columns,\n",
        "      'lr_feature_importance': lr_fi,\n",
        "      'rf_feature_importance': rf_fi,\n",
        "      'xgb_feature_importance': xgb_fi\n",
        "      })\n",
        "\n",
        "  fr_df = fr_df.sort_values('xgb_feature_importance', ascending=False)\n",
        "  fr_df = fr_df.style.format( '{:.4f}', subset=feature_importances_columns).bar(subset=feature_importances_columns, color='#511db8', width=60)\n",
        "\n",
        "  return fr_df"
      ]
    },
    {
      "cell_type": "code",
      "execution_count": null,
      "metadata": {
        "colab": {
          "base_uri": "https://localhost:8080/"
        },
        "id": "XRKiYW-PPVr4",
        "outputId": "4a9d7e17-1aa2-4eb3-f0b0-0d621529bb18"
      },
      "outputs": [],
      "source": [
        "show_fi(lr_feature_importance, rf_feature_importance, xgb_feature_importance)"
      ]
    }
  ],
  "metadata": {
    "accelerator": "GPU",
    "colab": {
      "collapsed_sections": [
        "iHJLWWKKNN05",
        "Q3X0sFcIa2Pl",
        "lgN7UpBia40k",
        "SRJY8zVqNTvL",
        "2ZXdsfyyTaKV",
        "ORnxr7xp2Hhi",
        "GyOm61FSTaKW",
        "1MOYYj4QTaKW",
        "7bxAPp1hTaKW",
        "dURMJonwLViS",
        "BboF5RleTaKW",
        "39tlWqMxTaKX",
        "ZnIcH6eeKu0r",
        "E_YnzJeBK0N3",
        "fXnUyS4l4qDT",
        "R0ZGnbFheMRr",
        "3OUWMF6jGUGJ"
      ],
      "gpuType": "T4",
      "provenance": []
    },
    "kernelspec": {
      "display_name": "Python 3",
      "name": "python3"
    },
    "language_info": {
      "codemirror_mode": {
        "name": "ipython",
        "version": 3
      },
      "file_extension": ".py",
      "mimetype": "text/x-python",
      "name": "python",
      "nbconvert_exporter": "python",
      "pygments_lexer": "ipython3",
      "version": "3.11.5"
    },
    "widgets": {
      "application/vnd.jupyter.widget-state+json": {
        "29bd68c10eab4e1197e33995f39c330e": {
          "model_module": "@jupyter-widgets/controls",
          "model_module_version": "1.5.0",
          "model_name": "HTMLModel",
          "state": {
            "_dom_classes": [],
            "_model_module": "@jupyter-widgets/controls",
            "_model_module_version": "1.5.0",
            "_model_name": "HTMLModel",
            "_view_count": null,
            "_view_module": "@jupyter-widgets/controls",
            "_view_module_version": "1.5.0",
            "_view_name": "HTMLView",
            "description": "",
            "description_tooltip": null,
            "layout": "IPY_MODEL_403ffd042b314db5be0980e4e65380cf",
            "placeholder": "​",
            "style": "IPY_MODEL_98cb46c9897c47beba387e554cd602f0",
            "value": "100%"
          }
        },
        "2ff05e6e492e458f93ff2b58137eaf5a": {
          "model_module": "@jupyter-widgets/controls",
          "model_module_version": "1.5.0",
          "model_name": "DescriptionStyleModel",
          "state": {
            "_model_module": "@jupyter-widgets/controls",
            "_model_module_version": "1.5.0",
            "_model_name": "DescriptionStyleModel",
            "_view_count": null,
            "_view_module": "@jupyter-widgets/base",
            "_view_module_version": "1.2.0",
            "_view_name": "StyleView",
            "description_width": ""
          }
        },
        "403ffd042b314db5be0980e4e65380cf": {
          "model_module": "@jupyter-widgets/base",
          "model_module_version": "1.2.0",
          "model_name": "LayoutModel",
          "state": {
            "_model_module": "@jupyter-widgets/base",
            "_model_module_version": "1.2.0",
            "_model_name": "LayoutModel",
            "_view_count": null,
            "_view_module": "@jupyter-widgets/base",
            "_view_module_version": "1.2.0",
            "_view_name": "LayoutView",
            "align_content": null,
            "align_items": null,
            "align_self": null,
            "border": null,
            "bottom": null,
            "display": null,
            "flex": null,
            "flex_flow": null,
            "grid_area": null,
            "grid_auto_columns": null,
            "grid_auto_flow": null,
            "grid_auto_rows": null,
            "grid_column": null,
            "grid_gap": null,
            "grid_row": null,
            "grid_template_areas": null,
            "grid_template_columns": null,
            "grid_template_rows": null,
            "height": null,
            "justify_content": null,
            "justify_items": null,
            "left": null,
            "margin": null,
            "max_height": null,
            "max_width": null,
            "min_height": null,
            "min_width": null,
            "object_fit": null,
            "object_position": null,
            "order": null,
            "overflow": null,
            "overflow_x": null,
            "overflow_y": null,
            "padding": null,
            "right": null,
            "top": null,
            "visibility": null,
            "width": null
          }
        },
        "4048cd77cd644811909f80843bf0cdff": {
          "model_module": "@jupyter-widgets/base",
          "model_module_version": "1.2.0",
          "model_name": "LayoutModel",
          "state": {
            "_model_module": "@jupyter-widgets/base",
            "_model_module_version": "1.2.0",
            "_model_name": "LayoutModel",
            "_view_count": null,
            "_view_module": "@jupyter-widgets/base",
            "_view_module_version": "1.2.0",
            "_view_name": "LayoutView",
            "align_content": null,
            "align_items": null,
            "align_self": null,
            "border": null,
            "bottom": null,
            "display": null,
            "flex": null,
            "flex_flow": null,
            "grid_area": null,
            "grid_auto_columns": null,
            "grid_auto_flow": null,
            "grid_auto_rows": null,
            "grid_column": null,
            "grid_gap": null,
            "grid_row": null,
            "grid_template_areas": null,
            "grid_template_columns": null,
            "grid_template_rows": null,
            "height": null,
            "justify_content": null,
            "justify_items": null,
            "left": null,
            "margin": null,
            "max_height": null,
            "max_width": null,
            "min_height": null,
            "min_width": null,
            "object_fit": null,
            "object_position": null,
            "order": null,
            "overflow": null,
            "overflow_x": null,
            "overflow_y": null,
            "padding": null,
            "right": null,
            "top": null,
            "visibility": null,
            "width": null
          }
        },
        "4e080d45428947ce8cff512dfefc2129": {
          "model_module": "@jupyter-widgets/controls",
          "model_module_version": "1.5.0",
          "model_name": "FloatProgressModel",
          "state": {
            "_dom_classes": [],
            "_model_module": "@jupyter-widgets/controls",
            "_model_module_version": "1.5.0",
            "_model_name": "FloatProgressModel",
            "_view_count": null,
            "_view_module": "@jupyter-widgets/controls",
            "_view_module_version": "1.5.0",
            "_view_name": "ProgressView",
            "bar_style": "success",
            "description": "",
            "description_tooltip": null,
            "layout": "IPY_MODEL_4048cd77cd644811909f80843bf0cdff",
            "max": 580,
            "min": 0,
            "orientation": "horizontal",
            "style": "IPY_MODEL_a704c276182c4f1eacf8a97f31d6864b",
            "value": 580
          }
        },
        "605278e09db647a6ba98e3b4196aef23": {
          "model_module": "@jupyter-widgets/base",
          "model_module_version": "1.2.0",
          "model_name": "LayoutModel",
          "state": {
            "_model_module": "@jupyter-widgets/base",
            "_model_module_version": "1.2.0",
            "_model_name": "LayoutModel",
            "_view_count": null,
            "_view_module": "@jupyter-widgets/base",
            "_view_module_version": "1.2.0",
            "_view_name": "LayoutView",
            "align_content": null,
            "align_items": null,
            "align_self": null,
            "border": null,
            "bottom": null,
            "display": null,
            "flex": null,
            "flex_flow": null,
            "grid_area": null,
            "grid_auto_columns": null,
            "grid_auto_flow": null,
            "grid_auto_rows": null,
            "grid_column": null,
            "grid_gap": null,
            "grid_row": null,
            "grid_template_areas": null,
            "grid_template_columns": null,
            "grid_template_rows": null,
            "height": null,
            "justify_content": null,
            "justify_items": null,
            "left": null,
            "margin": null,
            "max_height": null,
            "max_width": null,
            "min_height": null,
            "min_width": null,
            "object_fit": null,
            "object_position": null,
            "order": null,
            "overflow": null,
            "overflow_x": null,
            "overflow_y": null,
            "padding": null,
            "right": null,
            "top": null,
            "visibility": null,
            "width": null
          }
        },
        "7fc5fc01ef474264a7667f72d2bc7170": {
          "model_module": "@jupyter-widgets/controls",
          "model_module_version": "1.5.0",
          "model_name": "HBoxModel",
          "state": {
            "_dom_classes": [],
            "_model_module": "@jupyter-widgets/controls",
            "_model_module_version": "1.5.0",
            "_model_name": "HBoxModel",
            "_view_count": null,
            "_view_module": "@jupyter-widgets/controls",
            "_view_module_version": "1.5.0",
            "_view_name": "HBoxView",
            "box_style": "",
            "children": [
              "IPY_MODEL_29bd68c10eab4e1197e33995f39c330e",
              "IPY_MODEL_4e080d45428947ce8cff512dfefc2129",
              "IPY_MODEL_c8622baf1762459cbc0b7c063ea20496"
            ],
            "layout": "IPY_MODEL_a5f32344e3c1455cbe47fa3bcbfa5cff"
          }
        },
        "98cb46c9897c47beba387e554cd602f0": {
          "model_module": "@jupyter-widgets/controls",
          "model_module_version": "1.5.0",
          "model_name": "DescriptionStyleModel",
          "state": {
            "_model_module": "@jupyter-widgets/controls",
            "_model_module_version": "1.5.0",
            "_model_name": "DescriptionStyleModel",
            "_view_count": null,
            "_view_module": "@jupyter-widgets/base",
            "_view_module_version": "1.2.0",
            "_view_name": "StyleView",
            "description_width": ""
          }
        },
        "a5f32344e3c1455cbe47fa3bcbfa5cff": {
          "model_module": "@jupyter-widgets/base",
          "model_module_version": "1.2.0",
          "model_name": "LayoutModel",
          "state": {
            "_model_module": "@jupyter-widgets/base",
            "_model_module_version": "1.2.0",
            "_model_name": "LayoutModel",
            "_view_count": null,
            "_view_module": "@jupyter-widgets/base",
            "_view_module_version": "1.2.0",
            "_view_name": "LayoutView",
            "align_content": null,
            "align_items": null,
            "align_self": null,
            "border": null,
            "bottom": null,
            "display": null,
            "flex": null,
            "flex_flow": null,
            "grid_area": null,
            "grid_auto_columns": null,
            "grid_auto_flow": null,
            "grid_auto_rows": null,
            "grid_column": null,
            "grid_gap": null,
            "grid_row": null,
            "grid_template_areas": null,
            "grid_template_columns": null,
            "grid_template_rows": null,
            "height": null,
            "justify_content": null,
            "justify_items": null,
            "left": null,
            "margin": null,
            "max_height": null,
            "max_width": null,
            "min_height": null,
            "min_width": null,
            "object_fit": null,
            "object_position": null,
            "order": null,
            "overflow": null,
            "overflow_x": null,
            "overflow_y": null,
            "padding": null,
            "right": null,
            "top": null,
            "visibility": null,
            "width": null
          }
        },
        "a704c276182c4f1eacf8a97f31d6864b": {
          "model_module": "@jupyter-widgets/controls",
          "model_module_version": "1.5.0",
          "model_name": "ProgressStyleModel",
          "state": {
            "_model_module": "@jupyter-widgets/controls",
            "_model_module_version": "1.5.0",
            "_model_name": "ProgressStyleModel",
            "_view_count": null,
            "_view_module": "@jupyter-widgets/base",
            "_view_module_version": "1.2.0",
            "_view_name": "StyleView",
            "bar_color": null,
            "description_width": ""
          }
        },
        "c8622baf1762459cbc0b7c063ea20496": {
          "model_module": "@jupyter-widgets/controls",
          "model_module_version": "1.5.0",
          "model_name": "HTMLModel",
          "state": {
            "_dom_classes": [],
            "_model_module": "@jupyter-widgets/controls",
            "_model_module_version": "1.5.0",
            "_model_name": "HTMLModel",
            "_view_count": null,
            "_view_module": "@jupyter-widgets/controls",
            "_view_module_version": "1.5.0",
            "_view_name": "HTMLView",
            "description": "",
            "description_tooltip": null,
            "layout": "IPY_MODEL_605278e09db647a6ba98e3b4196aef23",
            "placeholder": "​",
            "style": "IPY_MODEL_2ff05e6e492e458f93ff2b58137eaf5a",
            "value": " 580/580 [37:26&lt;00:00,  3.76s/it]"
          }
        }
      }
    }
  },
  "nbformat": 4,
  "nbformat_minor": 0
}
